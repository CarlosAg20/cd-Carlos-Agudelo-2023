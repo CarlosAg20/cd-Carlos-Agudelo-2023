{
  "nbformat": 4,
  "nbformat_minor": 0,
  "metadata": {
    "colab": {
      "provenance": [],
      "authorship_tag": "ABX9TyNL5WSOIdgDhDVCd9/KtEGR",
      "include_colab_link": true
    },
    "kernelspec": {
      "name": "python3",
      "display_name": "Python 3"
    },
    "language_info": {
      "name": "python"
    }
  },
  "cells": [
    {
      "cell_type": "markdown",
      "metadata": {
        "id": "view-in-github",
        "colab_type": "text"
      },
      "source": [
        "<a href=\"https://colab.research.google.com/github/CarlosAg20/cd-Carlos-Agudelo-2023/blob/main/TALLER_5_CarlosAgudelo.ipynb\" target=\"_parent\"><img src=\"https://colab.research.google.com/assets/colab-badge.svg\" alt=\"Open In Colab\"/></a>"
      ]
    },
    {
      "cell_type": "code",
      "execution_count": 1,
      "metadata": {
        "colab": {
          "base_uri": "https://localhost:8080/"
        },
        "id": "XsV8zFyiOPqP",
        "outputId": "2817c21e-1bdc-40eb-8b95-5a6455314f41"
      },
      "outputs": [
        {
          "output_type": "stream",
          "name": "stdout",
          "text": [
            "Requirement already satisfied: matplotlib in /usr/local/lib/python3.10/dist-packages (3.7.1)\n",
            "Requirement already satisfied: contourpy>=1.0.1 in /usr/local/lib/python3.10/dist-packages (from matplotlib) (1.1.0)\n",
            "Requirement already satisfied: cycler>=0.10 in /usr/local/lib/python3.10/dist-packages (from matplotlib) (0.11.0)\n",
            "Requirement already satisfied: fonttools>=4.22.0 in /usr/local/lib/python3.10/dist-packages (from matplotlib) (4.42.1)\n",
            "Requirement already satisfied: kiwisolver>=1.0.1 in /usr/local/lib/python3.10/dist-packages (from matplotlib) (1.4.5)\n",
            "Requirement already satisfied: numpy>=1.20 in /usr/local/lib/python3.10/dist-packages (from matplotlib) (1.23.5)\n",
            "Requirement already satisfied: packaging>=20.0 in /usr/local/lib/python3.10/dist-packages (from matplotlib) (23.1)\n",
            "Requirement already satisfied: pillow>=6.2.0 in /usr/local/lib/python3.10/dist-packages (from matplotlib) (9.4.0)\n",
            "Requirement already satisfied: pyparsing>=2.3.1 in /usr/local/lib/python3.10/dist-packages (from matplotlib) (3.1.1)\n",
            "Requirement already satisfied: python-dateutil>=2.7 in /usr/local/lib/python3.10/dist-packages (from matplotlib) (2.8.2)\n",
            "Requirement already satisfied: six>=1.5 in /usr/local/lib/python3.10/dist-packages (from python-dateutil>=2.7->matplotlib) (1.16.0)\n"
          ]
        }
      ],
      "source": [
        "!pip install matplotlib\n"
      ]
    },
    {
      "cell_type": "code",
      "source": [
        "import matplotlib.pyplot as plt\n",
        "import numpy as np\n",
        "\n",
        "# Crear una figura y un conjunto de ejes\n",
        "fig, ax = plt.subplots()\n",
        "\n",
        "#Cuadrado:\n",
        "square = plt.Rectangle((0, 0), 1, 1, fill=False, color='blue', linewidth=2)\n",
        "ax.add_patch(square)\n",
        "\n",
        "#Circunferencia\n",
        "theta = np.linspace(0, np.pi / 2, 100)\n",
        "x = np.cos(theta)\n",
        "y = np.sin(theta)\n",
        "ax.plot(x, y, color='red', linewidth=2)\n",
        "\n",
        "# Establecer límites de los ejes\n",
        "ax.set_xlim(0, 1.2)\n",
        "ax.set_ylim(0, 1.2)\n",
        "\n",
        "# Etiquetar los ejes\n",
        "ax.set_xlabel('Eje X (metros)')\n",
        "ax.set_ylabel('Eje Y (metros)')\n",
        "\n",
        "# Mostrar la gráfica\n",
        "plt.gca().set_aspect('equal', adjustable='box')\n",
        "plt.grid()\n",
        "plt.show()"
      ],
      "metadata": {
        "colab": {
          "base_uri": "https://localhost:8080/",
          "height": 455
        },
        "id": "x-oN-4gnU7Jw",
        "outputId": "4c48fbe7-c6fb-4b12-d2c5-0dbf9c949628"
      },
      "execution_count": 13,
      "outputs": [
        {
          "output_type": "display_data",
          "data": {
            "text/plain": [
              "<Figure size 640x480 with 1 Axes>"
            ],
            "image/png": "[encoded data removed]"
          },
          "metadata": {}
        }
      ]
    },
    {
      "cell_type": "markdown",
      "source": [
        "### PUNTO 1: ESTIMACIÓN PI CON PUNTOS EQUIDISTANTES"
      ],
      "metadata": {
        "id": "8anTwBhSUgDE"
      }
    },
    {
      "cell_type": "code",
      "source": [
        "def adentro_circulo(x, y):\n",
        "    radio = 1\n",
        "    distancia_al_centro = (x ** 2 + y ** 2) ** 0.5\n",
        "    return distancia_al_centro <= radio\n",
        "puntos = 1000000\n",
        "p_lado = int(puntos ** 0.5)\n",
        "separacion = 1 / (p_lado - 1)\n",
        "\n",
        "\n",
        "puntos_dentro_circunferencia = 0\n",
        "\n",
        "for i in range(p_lado):\n",
        "    x = i * separacion\n",
        "    for j in range(p_lado):\n",
        "        y = j * separacion\n",
        "        if adentro_circulo(x, y):\n",
        "            puntos_dentro_circunferencia += 1\n",
        "\n",
        "print(f\"Puntos dentro de la circunferencia: {puntos_dentro_circunferencia}\")\n",
        "\n",
        "#Estimación pi\n",
        "est=4*(puntos_dentro_circunferencia/puntos)\n",
        "print(f\"Estimación de pi es: {est}\")"
      ],
      "metadata": {
        "colab": {
          "base_uri": "https://localhost:8080/"
        },
        "id": "9vwivMP5RwxG",
        "outputId": "573bacf2-eec4-413d-922f-35bda813fa38"
      },
      "execution_count": 11,
      "outputs": [
        {
          "output_type": "stream",
          "name": "stdout",
          "text": [
            "Puntos dentro de la circunferencia: 784789\n",
            "Estimación de pi es: 3.139156\n"
          ]
        }
      ]
    },
    {
      "cell_type": "markdown",
      "source": [
        "## PUNTO 2: ESTIMACIÓN PI CON PUNTOS ALEATORIOS"
      ],
      "metadata": {
        "id": "hR8uCKhAUrAU"
      }
    },
    {
      "cell_type": "code",
      "source": [
        "puntos_dentro_circunferencia2 = 0\n",
        "\n",
        "for _ in range(puntos):\n",
        "    x = random.uniform(0, 1)\n",
        "    y = random.uniform(0, 1)\n",
        "    if adentro_circulo(x, y):\n",
        "        puntos_dentro_circunferencia2 += 1\n",
        "\n",
        "print(f\"Puntos dentro de la circunferencia: {puntos_dentro_circunferencia2}\")\n",
        "\n",
        "# Estimación de pi usando la fórmula de Monte Carlo\n",
        "estimacion_pi = 4 * (puntos_dentro_circunferencia2 / puntos)\n",
        "print(f\"Estimación de pi es: {estimacion_pi}\")"
      ],
      "metadata": {
        "colab": {
          "base_uri": "https://localhost:8080/"
        },
        "id": "hgjBl506U2mA",
        "outputId": "8d2d8564-cd96-4f4d-db54-beb5fd26b547"
      },
      "execution_count": 18,
      "outputs": [
        {
          "output_type": "stream",
          "name": "stdout",
          "text": [
            "Puntos dentro de la circunferencia: 785017\n",
            "Estimación de pi es: 3.140068\n"
          ]
        }
      ]
    }
  ]
}